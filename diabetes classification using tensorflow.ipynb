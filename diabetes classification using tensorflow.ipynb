{
 "cells": [
  {
   "cell_type": "markdown",
   "id": "26eafabe",
   "metadata": {},
   "source": [
    "# DIABETES PREDICTION USING TENSORFLOW"
   ]
  },
  {
   "cell_type": "markdown",
   "id": "4cc39ad1",
   "metadata": {},
   "source": [
    "* **In this project we are going to predict wether a female has diabetes**\n",
    "* **The Diabetes dataset contains features of women who are diabetes positive or negative**\n",
    "* **we are going to use tensorflow's sequential api model**"
   ]
  },
  {
   "cell_type": "markdown",
   "id": "044c5725",
   "metadata": {},
   "source": [
    "**importing necessary modules**"
   ]
  },
  {
   "cell_type": "code",
   "execution_count": 102,
   "id": "69dca144",
   "metadata": {},
   "outputs": [],
   "source": [
    "import pandas as pd\n",
    "import numpy as np\n",
    "import matplotlib.pyplot as plt\n",
    "import seaborn as sn\n",
    "from sklearn.model_selection import train_test_split\n",
    "from sklearn.preprocessing import StandardScaler\n",
    "from imblearn.over_sampling import RandomOverSampler\n",
    "import tensorflow as tf"
   ]
  },
  {
   "cell_type": "markdown",
   "id": "41fa1710",
   "metadata": {},
   "source": [
    "**loading dataset**"
   ]
  },
  {
   "cell_type": "code",
   "execution_count": 135,
   "id": "e65c66bc",
   "metadata": {},
   "outputs": [
    {
     "data": {
      "text/html": [
       "<div>\n",
       "<style scoped>\n",
       "    .dataframe tbody tr th:only-of-type {\n",
       "        vertical-align: middle;\n",
       "    }\n",
       "\n",
       "    .dataframe tbody tr th {\n",
       "        vertical-align: top;\n",
       "    }\n",
       "\n",
       "    .dataframe thead th {\n",
       "        text-align: right;\n",
       "    }\n",
       "</style>\n",
       "<table border=\"1\" class=\"dataframe\">\n",
       "  <thead>\n",
       "    <tr style=\"text-align: right;\">\n",
       "      <th></th>\n",
       "      <th>Pregnancies</th>\n",
       "      <th>Glucose</th>\n",
       "      <th>BloodPressure</th>\n",
       "      <th>SkinThickness</th>\n",
       "      <th>Insulin</th>\n",
       "      <th>BMI</th>\n",
       "      <th>DiabetesPedigreeFunction</th>\n",
       "      <th>Age</th>\n",
       "      <th>Outcome</th>\n",
       "    </tr>\n",
       "  </thead>\n",
       "  <tbody>\n",
       "    <tr>\n",
       "      <th>0</th>\n",
       "      <td>6</td>\n",
       "      <td>148</td>\n",
       "      <td>72</td>\n",
       "      <td>35</td>\n",
       "      <td>0</td>\n",
       "      <td>33.6</td>\n",
       "      <td>0.627</td>\n",
       "      <td>50</td>\n",
       "      <td>1</td>\n",
       "    </tr>\n",
       "    <tr>\n",
       "      <th>1</th>\n",
       "      <td>1</td>\n",
       "      <td>85</td>\n",
       "      <td>66</td>\n",
       "      <td>29</td>\n",
       "      <td>0</td>\n",
       "      <td>26.6</td>\n",
       "      <td>0.351</td>\n",
       "      <td>31</td>\n",
       "      <td>0</td>\n",
       "    </tr>\n",
       "    <tr>\n",
       "      <th>2</th>\n",
       "      <td>8</td>\n",
       "      <td>183</td>\n",
       "      <td>64</td>\n",
       "      <td>0</td>\n",
       "      <td>0</td>\n",
       "      <td>23.3</td>\n",
       "      <td>0.672</td>\n",
       "      <td>32</td>\n",
       "      <td>1</td>\n",
       "    </tr>\n",
       "    <tr>\n",
       "      <th>3</th>\n",
       "      <td>1</td>\n",
       "      <td>89</td>\n",
       "      <td>66</td>\n",
       "      <td>23</td>\n",
       "      <td>94</td>\n",
       "      <td>28.1</td>\n",
       "      <td>0.167</td>\n",
       "      <td>21</td>\n",
       "      <td>0</td>\n",
       "    </tr>\n",
       "    <tr>\n",
       "      <th>4</th>\n",
       "      <td>0</td>\n",
       "      <td>137</td>\n",
       "      <td>40</td>\n",
       "      <td>35</td>\n",
       "      <td>168</td>\n",
       "      <td>43.1</td>\n",
       "      <td>2.288</td>\n",
       "      <td>33</td>\n",
       "      <td>1</td>\n",
       "    </tr>\n",
       "  </tbody>\n",
       "</table>\n",
       "</div>"
      ],
      "text/plain": [
       "   Pregnancies  Glucose  BloodPressure  SkinThickness  Insulin   BMI  \\\n",
       "0            6      148             72             35        0  33.6   \n",
       "1            1       85             66             29        0  26.6   \n",
       "2            8      183             64              0        0  23.3   \n",
       "3            1       89             66             23       94  28.1   \n",
       "4            0      137             40             35      168  43.1   \n",
       "\n",
       "   DiabetesPedigreeFunction  Age  Outcome  \n",
       "0                     0.627   50        1  \n",
       "1                     0.351   31        0  \n",
       "2                     0.672   32        1  \n",
       "3                     0.167   21        0  \n",
       "4                     2.288   33        1  "
      ]
     },
     "execution_count": 135,
     "metadata": {},
     "output_type": "execute_result"
    }
   ],
   "source": [
    "df = pd.read_csv('diabetes.csv')\n",
    "df.head()"
   ]
  },
  {
   "cell_type": "markdown",
   "id": "532b91b6",
   "metadata": {},
   "source": [
    "**summary**\n",
    "* independant varaiables : pregnancies,glucose,bloodpressure,skin thickness,insuin,BMI,diabetes pedigree funtion and age \n",
    "* target variable is the outcome it has vals 0 and 1 \n",
    " "
   ]
  },
  {
   "cell_type": "markdown",
   "id": "23f5f44f",
   "metadata": {},
   "source": [
    "**data visuvalization to see correlation with the outcome**"
   ]
  },
  {
   "cell_type": "code",
   "execution_count": 104,
   "id": "143a0726",
   "metadata": {},
   "outputs": [
    {
     "data": {
      "image/png": "[encoded data removed]",
      "text/plain": [
       "<Figure size 432x288 with 1 Axes>"
      ]
     },
     "metadata": {
      "needs_background": "light"
     },
     "output_type": "display_data"
    },
    {
     "data": {
      "image/png": "[encoded data removed]",
      "text/plain": [
       "<Figure size 432x288 with 1 Axes>"
      ]
     },
     "metadata": {
      "needs_background": "light"
     },
     "output_type": "display_data"
    },
    {
     "data": {
      "image/png": "[encoded data removed]",
      "text/plain": [
       "<Figure size 432x288 with 1 Axes>"
      ]
     },
     "metadata": {
      "needs_background": "light"
     },
     "output_type": "display_data"
    },
    {
     "data": {
      "image/png": "[encoded data removed]",
      "text/plain": [
       "<Figure size 432x288 with 1 Axes>"
      ]
     },
     "metadata": {
      "needs_background": "light"
     },
     "output_type": "display_data"
    },
    {
     "data": {
      "image/png": "[encoded data removed]",
      "text/plain": [
       "<Figure size 432x288 with 1 Axes>"
      ]
     },
     "metadata": {
      "needs_background": "light"
     },
     "output_type": "display_data"
    },
    {
     "data": {
      "image/png": "[encoded data removed]",
      "text/plain": [
       "<Figure size 432x288 with 1 Axes>"
      ]
     },
     "metadata": {
      "needs_background": "light"
     },
     "output_type": "display_data"
    },
    {
     "data": {
      "image/png": "[encoded data removed]",
      "text/plain": [
       "<Figure size 432x288 with 1 Axes>"
      ]
     },
     "metadata": {
      "needs_background": "light"
     },
     "output_type": "display_data"
    },
    {
     "data": {
      "image/png": "[encoded data removed]",
      "text/plain": [
       "<Figure size 432x288 with 1 Axes>"
      ]
     },
     "metadata": {
      "needs_background": "light"
     },
     "output_type": "display_data"
    }
   ],
   "source": [
    "for i in range(len(df.columns[:-1])):\n",
    "    label = df.columns[i]\n",
    "    plt.hist(df[df['Outcome']==1][label],color = 'red', label = 'Diabetes',alpha = 0.6 , density =True,bins = 15)\n",
    "    plt.hist(df[df['Outcome']==0][label],color = 'blue', label = 'No Diabetes',alpha = 0.6 ,density =True,bins = 15)\n",
    "    plt.title(label)\n",
    "    plt.ylabel(\"probability\")\n",
    "    plt.xlabel(label)\n",
    "    plt.legend()\n",
    "    plt.show()"
   ]
  },
  {
   "cell_type": "markdown",
   "id": "5022cf3f",
   "metadata": {},
   "source": [
    "**summary :**\n",
    "* maybe people with more pregancies have diabetes \n",
    "* people with more glucose level have been affected by diabetes\n",
    "* people with diabetes have slightly higher bmi \n",
    "* with other features we can't come to a straight conclusion "
   ]
  },
  {
   "cell_type": "markdown",
   "id": "47a1b051",
   "metadata": {},
   "source": [
    "**creating our X and Y matrices**"
   ]
  },
  {
   "cell_type": "code",
   "execution_count": 136,
   "id": "ff1c9a79",
   "metadata": {},
   "outputs": [
    {
     "data": {
      "text/plain": [
       "(array([[  6.   , 148.   ,  72.   , ...,  33.6  ,   0.627,  50.   ],\n",
       "        [  1.   ,  85.   ,  66.   , ...,  26.6  ,   0.351,  31.   ],\n",
       "        [  8.   , 183.   ,  64.   , ...,  23.3  ,   0.672,  32.   ],\n",
       "        ...,\n",
       "        [  5.   , 121.   ,  72.   , ...,  26.2  ,   0.245,  30.   ],\n",
       "        [  1.   , 126.   ,  60.   , ...,  30.1  ,   0.349,  47.   ],\n",
       "        [  1.   ,  93.   ,  70.   , ...,  30.4  ,   0.315,  23.   ]]),\n",
       " array([1, 0, 1, 0, 1, 0, 1, 0, 1, 1, 0, 1, 0, 1, 1, 1, 1, 1, 0, 1, 0, 0,\n",
       "        1, 1, 1, 1, 1, 0, 0, 0, 0, 1, 0, 0, 0, 0, 0, 1, 1, 1, 0, 0, 0, 1,\n",
       "        0, 1, 0, 0, 1, 0, 0, 0, 0, 1, 0, 0, 1, 0, 0, 0, 0, 1, 0, 0, 1, 0,\n",
       "        1, 0, 0, 0, 1, 0, 1, 0, 0, 0, 0, 0, 1, 0, 0, 0, 0, 0, 1, 0, 0, 0,\n",
       "        1, 0, 0, 0, 0, 1, 0, 0, 0, 0, 0, 1, 1, 0, 0, 0, 0, 0, 0, 0, 0, 1,\n",
       "        1, 1, 0, 0, 1, 1, 1, 0, 0, 0, 1, 0, 0, 0, 1, 1, 0, 0, 1, 1, 1, 1,\n",
       "        1, 0, 0, 0, 0, 0, 0, 0, 0, 0, 0, 1, 0, 0, 0, 0, 0, 0, 0, 0, 1, 0,\n",
       "        1, 1, 0, 0, 0, 1, 0, 0, 0, 0, 1, 1, 0, 0, 0, 0, 1, 1, 0, 0, 0, 1,\n",
       "        0, 1, 0, 1, 0, 0, 0, 0, 0, 1, 1, 1, 1, 1, 0, 0, 1, 1, 0, 1, 0, 1,\n",
       "        1, 1, 0, 0, 0, 0, 0, 0, 1, 1, 0, 1, 0, 0, 0, 1, 1, 1, 1, 0, 1, 1,\n",
       "        1, 1, 0, 0, 0, 0, 0, 1, 0, 0, 1, 1, 0, 0, 0, 1, 1, 1, 1, 0, 0, 0,\n",
       "        1, 1, 0, 1, 0, 0, 0, 0, 0, 0, 0, 0, 1, 1, 0, 0, 0, 1, 0, 1, 0, 0,\n",
       "        1, 0, 1, 0, 0, 1, 1, 0, 0, 0, 0, 0, 1, 0, 0, 0, 1, 0, 0, 1, 1, 0,\n",
       "        0, 1, 0, 0, 0, 1, 1, 1, 0, 0, 1, 0, 1, 0, 1, 1, 0, 1, 0, 0, 1, 0,\n",
       "        1, 1, 0, 0, 1, 0, 1, 0, 0, 1, 0, 1, 0, 1, 1, 1, 0, 0, 1, 0, 1, 0,\n",
       "        0, 0, 1, 0, 0, 0, 0, 1, 1, 1, 0, 0, 0, 0, 0, 0, 0, 0, 0, 1, 0, 0,\n",
       "        0, 0, 0, 1, 1, 1, 0, 1, 1, 0, 0, 1, 0, 0, 1, 0, 0, 1, 1, 0, 0, 0,\n",
       "        0, 1, 0, 0, 1, 0, 0, 0, 0, 0, 0, 0, 1, 1, 1, 0, 0, 1, 0, 0, 1, 0,\n",
       "        0, 1, 0, 1, 1, 0, 1, 0, 1, 0, 1, 0, 1, 1, 0, 0, 0, 0, 1, 1, 0, 1,\n",
       "        0, 1, 0, 0, 0, 0, 1, 1, 0, 1, 0, 1, 0, 0, 0, 0, 0, 1, 0, 0, 0, 0,\n",
       "        1, 0, 0, 1, 1, 1, 0, 0, 1, 0, 0, 1, 0, 0, 0, 1, 0, 0, 1, 0, 0, 0,\n",
       "        0, 0, 0, 0, 0, 0, 1, 0, 0, 0, 0, 0, 0, 0, 1, 0, 0, 0, 1, 0, 0, 0,\n",
       "        1, 1, 0, 0, 0, 0, 0, 0, 0, 1, 0, 0, 0, 0, 1, 0, 0, 0, 1, 0, 0, 0,\n",
       "        1, 0, 0, 0, 1, 0, 0, 0, 0, 1, 1, 0, 0, 0, 0, 0, 0, 1, 0, 0, 0, 0,\n",
       "        0, 0, 0, 0, 0, 0, 0, 1, 0, 0, 0, 1, 1, 1, 1, 0, 0, 1, 1, 0, 0, 0,\n",
       "        0, 0, 0, 0, 0, 0, 0, 0, 0, 0, 1, 1, 0, 0, 0, 0, 0, 0, 0, 1, 0, 0,\n",
       "        0, 0, 0, 0, 0, 1, 0, 1, 1, 0, 0, 0, 1, 0, 1, 0, 1, 0, 1, 0, 1, 0,\n",
       "        0, 1, 0, 0, 1, 0, 0, 0, 0, 1, 1, 0, 1, 0, 0, 0, 0, 1, 1, 0, 1, 0,\n",
       "        0, 0, 1, 1, 0, 0, 0, 0, 0, 0, 0, 0, 0, 0, 1, 0, 0, 0, 0, 1, 0, 0,\n",
       "        1, 0, 0, 0, 1, 0, 0, 0, 1, 1, 1, 0, 0, 0, 0, 0, 0, 1, 0, 0, 0, 1,\n",
       "        0, 1, 1, 1, 1, 0, 1, 1, 0, 0, 0, 0, 0, 0, 0, 1, 1, 0, 1, 0, 0, 1,\n",
       "        0, 1, 0, 0, 0, 0, 0, 1, 0, 1, 0, 1, 0, 1, 1, 0, 0, 0, 0, 1, 1, 0,\n",
       "        0, 0, 1, 0, 1, 1, 0, 0, 1, 0, 0, 1, 1, 0, 0, 1, 0, 0, 1, 0, 0, 0,\n",
       "        0, 0, 0, 0, 1, 1, 1, 0, 0, 0, 0, 0, 0, 1, 1, 0, 0, 1, 0, 0, 1, 0,\n",
       "        1, 1, 1, 0, 0, 1, 1, 1, 0, 1, 0, 1, 0, 1, 0, 0, 0, 0, 1, 0],\n",
       "       dtype=int64))"
      ]
     },
     "execution_count": 136,
     "metadata": {},
     "output_type": "execute_result"
    }
   ],
   "source": [
    "X = df[df.columns[:-1]].values\n",
    "Y = df['Outcome'].values\n",
    "X,Y"
   ]
  },
  {
   "cell_type": "markdown",
   "id": "5a45ae9d",
   "metadata": {},
   "source": [
    "**Scaling Our X**\n",
    "* scaling our data gives the data a normal distribution and also reduces the run time "
   ]
  },
  {
   "cell_type": "code",
   "execution_count": 137,
   "id": "e578d181",
   "metadata": {},
   "outputs": [],
   "source": [
    "scaler = StandardScaler()\n",
    "X = scaler.fit_transform(X)\n",
    "data = np.hstack((X, np.reshape(Y,(-1,1))))\n",
    "transformed_df = pd.DataFrame(data,columns = df.columns)"
   ]
  },
  {
   "cell_type": "markdown",
   "id": "f826239c",
   "metadata": {},
   "source": [
    "**Random Oversampling**"
   ]
  },
  {
   "cell_type": "code",
   "execution_count": 138,
   "id": "56522e73",
   "metadata": {},
   "outputs": [
    {
     "data": {
      "text/plain": [
       "(268, 500)"
      ]
     },
     "execution_count": 138,
     "metadata": {},
     "output_type": "execute_result"
    }
   ],
   "source": [
    "len(transformed_df[transformed_df['Outcome']==1]), len(transformed_df[transformed_df['Outcome']==0])"
   ]
  },
  {
   "cell_type": "markdown",
   "id": "904bf946",
   "metadata": {},
   "source": [
    "* we can see that we have insufficient or un balanced data , to solve this problem we use random oversampling ."
   ]
  },
  {
   "cell_type": "code",
   "execution_count": 139,
   "id": "c4476c48",
   "metadata": {},
   "outputs": [],
   "source": [
    "sampler = RandomOverSampler()\n",
    "X,Y = sampler.fit_resample(X,Y)\n",
    "data = np.hstack((X,np.reshape(Y,(-1,1))))\n",
    "transformed_df = pd.DataFrame(data,columns = df.columns)"
   ]
  },
  {
   "cell_type": "code",
   "execution_count": 140,
   "id": "0ef70cad",
   "metadata": {},
   "outputs": [
    {
     "data": {
      "text/plain": [
       "(500, 500)"
      ]
     },
     "execution_count": 140,
     "metadata": {},
     "output_type": "execute_result"
    }
   ],
   "source": [
    "len(transformed_df[transformed_df['Outcome']==1]), len(transformed_df[transformed_df['Outcome']==0])"
   ]
  },
  {
   "cell_type": "markdown",
   "id": "5297d84f",
   "metadata": {},
   "source": [
    "**Spliting our data to test and train data sets**"
   ]
  },
  {
   "cell_type": "code",
   "execution_count": 147,
   "id": "801e3220",
   "metadata": {},
   "outputs": [
    {
     "data": {
      "text/plain": [
       "((600, 8), (600,), (200, 8), (200,), (200, 8), (200,))"
      ]
     },
     "execution_count": 147,
     "metadata": {},
     "output_type": "execute_result"
    }
   ],
   "source": [
    "X_train, X_temp, Y_train, Y_temp = train_test_split(X,Y,test_size = 0.4 , random_state = 0)\n",
    "X_dev, X_test, Y_dev, Y_test = train_test_split(X_temp,Y_temp,test_size = 0.5 , random_state = 0)\n",
    "X_train.shape ,Y_train.shape ,X_dev.shape ,Y_dev.shape ,X_test.shape ,Y_test.shape"
   ]
  },
  {
   "cell_type": "markdown",
   "id": "28449cfc",
   "metadata": {},
   "source": [
    "* training sets : X_train , Y train\n",
    "* validation sets : X_dev , Y_dev \n",
    "* test sets : X_test , Y_test"
   ]
  },
  {
   "cell_type": "markdown",
   "id": "cc571f6e",
   "metadata": {},
   "source": [
    "**Building our Model using Tensorflow**"
   ]
  },
  {
   "cell_type": "code",
   "execution_count": 151,
   "id": "6f8e5bce",
   "metadata": {},
   "outputs": [],
   "source": [
    "model = tf.keras.Sequential([\n",
    "                            tf.keras.layers.Dense(20,activation = 'relu'),\n",
    "                            tf.keras.layers.Dense(20,activation = 'relu'),\n",
    "                            tf.keras.layers.Dense(20,activation = 'relu'),\n",
    "                            tf.keras.layers.Dense(20,activation = 'relu'),\n",
    "                            tf.keras.layers.Dense(16,activation = 'relu'),\n",
    "                            tf.keras.layers.Dense(1,activation = 'sigmoid')\n",
    "                            ])"
   ]
  },
  {
   "cell_type": "code",
   "execution_count": 152,
   "id": "de81c465",
   "metadata": {},
   "outputs": [],
   "source": [
    "model.compile(optimizer = tf.keras.optimizers.Adam(learning_rate=0.001),\n",
    "             loss = tf.keras.losses.BinaryCrossentropy(),\n",
    "             metrics = ['accuracy'])"
   ]
  },
  {
   "cell_type": "code",
   "execution_count": 153,
   "id": "1246d9fe",
   "metadata": {},
   "outputs": [
    {
     "name": "stdout",
     "output_type": "stream",
     "text": [
      "19/19 [==============================] - 1s 4ms/step - loss: 0.6914 - accuracy: 0.5067\n"
     ]
    },
    {
     "data": {
      "text/plain": [
       "[0.6913692951202393, 0.5066666603088379]"
      ]
     },
     "execution_count": 153,
     "metadata": {},
     "output_type": "execute_result"
    }
   ],
   "source": [
    "model.evaluate(X_train,Y_train)"
   ]
  },
  {
   "cell_type": "code",
   "execution_count": 154,
   "id": "9a00aa75",
   "metadata": {},
   "outputs": [
    {
     "name": "stdout",
     "output_type": "stream",
     "text": [
      "7/7 [==============================] - 0s 3ms/step - loss: 0.6988 - accuracy: 0.4650\n"
     ]
    },
    {
     "data": {
      "text/plain": [
       "[0.6988235712051392, 0.4650000035762787]"
      ]
     },
     "execution_count": 154,
     "metadata": {},
     "output_type": "execute_result"
    }
   ],
   "source": [
    "model.evaluate(X_dev, Y_dev)"
   ]
  },
  {
   "cell_type": "markdown",
   "id": "2a1b1aa8",
   "metadata": {},
   "source": [
    "**now lets fit our training data**"
   ]
  },
  {
   "cell_type": "code",
   "execution_count": 157,
   "id": "5743bf9d",
   "metadata": {},
   "outputs": [
    {
     "name": "stdout",
     "output_type": "stream",
     "text": [
      "Epoch 1/20\n",
      "38/38 [==============================] - 0s 10ms/step - loss: 0.4062 - accuracy: 0.8233 - val_loss: 0.4253 - val_accuracy: 0.8050\n",
      "Epoch 2/20\n",
      "38/38 [==============================] - 0s 7ms/step - loss: 0.3961 - accuracy: 0.8283 - val_loss: 0.4203 - val_accuracy: 0.8100\n",
      "Epoch 3/20\n",
      "38/38 [==============================] - 0s 6ms/step - loss: 0.3871 - accuracy: 0.8283 - val_loss: 0.4241 - val_accuracy: 0.8050\n",
      "Epoch 4/20\n",
      "38/38 [==============================] - 0s 8ms/step - loss: 0.3792 - accuracy: 0.8367 - val_loss: 0.4291 - val_accuracy: 0.8050\n",
      "Epoch 5/20\n",
      "38/38 [==============================] - 0s 8ms/step - loss: 0.3759 - accuracy: 0.8300 - val_loss: 0.4222 - val_accuracy: 0.8050\n",
      "Epoch 6/20\n",
      "38/38 [==============================] - 0s 8ms/step - loss: 0.3655 - accuracy: 0.8433 - val_loss: 0.4081 - val_accuracy: 0.8200\n",
      "Epoch 7/20\n",
      "38/38 [==============================] - 0s 7ms/step - loss: 0.3558 - accuracy: 0.8483 - val_loss: 0.4233 - val_accuracy: 0.8200\n",
      "Epoch 8/20\n",
      "38/38 [==============================] - 0s 8ms/step - loss: 0.3479 - accuracy: 0.8517 - val_loss: 0.4191 - val_accuracy: 0.8050\n",
      "Epoch 9/20\n",
      "38/38 [==============================] - 0s 7ms/step - loss: 0.3434 - accuracy: 0.8600 - val_loss: 0.4256 - val_accuracy: 0.8100\n",
      "Epoch 10/20\n",
      "38/38 [==============================] - 0s 7ms/step - loss: 0.3291 - accuracy: 0.8567 - val_loss: 0.4175 - val_accuracy: 0.8250\n",
      "Epoch 11/20\n",
      "38/38 [==============================] - 0s 8ms/step - loss: 0.3205 - accuracy: 0.8617 - val_loss: 0.4246 - val_accuracy: 0.8100\n",
      "Epoch 12/20\n",
      "38/38 [==============================] - 0s 9ms/step - loss: 0.3153 - accuracy: 0.8600 - val_loss: 0.4245 - val_accuracy: 0.8200\n",
      "Epoch 13/20\n",
      "38/38 [==============================] - 0s 7ms/step - loss: 0.3103 - accuracy: 0.8750 - val_loss: 0.4242 - val_accuracy: 0.8150\n",
      "Epoch 14/20\n",
      "38/38 [==============================] - 0s 6ms/step - loss: 0.3030 - accuracy: 0.8750 - val_loss: 0.4324 - val_accuracy: 0.8200\n",
      "Epoch 15/20\n",
      "38/38 [==============================] - 0s 7ms/step - loss: 0.2886 - accuracy: 0.8850 - val_loss: 0.4299 - val_accuracy: 0.8150\n",
      "Epoch 16/20\n",
      "38/38 [==============================] - 0s 7ms/step - loss: 0.2803 - accuracy: 0.8800 - val_loss: 0.4649 - val_accuracy: 0.7850\n",
      "Epoch 17/20\n",
      "38/38 [==============================] - 0s 8ms/step - loss: 0.2648 - accuracy: 0.8983 - val_loss: 0.4443 - val_accuracy: 0.8050\n",
      "Epoch 18/20\n",
      "38/38 [==============================] - 0s 7ms/step - loss: 0.2529 - accuracy: 0.8967 - val_loss: 0.4351 - val_accuracy: 0.8150\n",
      "Epoch 19/20\n",
      "38/38 [==============================] - 0s 7ms/step - loss: 0.2429 - accuracy: 0.9067 - val_loss: 0.4480 - val_accuracy: 0.8250\n",
      "Epoch 20/20\n",
      "38/38 [==============================] - 0s 8ms/step - loss: 0.2428 - accuracy: 0.9000 - val_loss: 0.4426 - val_accuracy: 0.8100\n"
     ]
    },
    {
     "data": {
      "text/plain": [
       "<keras.callbacks.History at 0x1b8bfe3e820>"
      ]
     },
     "execution_count": 157,
     "metadata": {},
     "output_type": "execute_result"
    }
   ],
   "source": [
    "model.fit(X_train, Y_train, batch_size= 16, epochs = 20, validation_data = (X_dev,Y_dev))"
   ]
  },
  {
   "cell_type": "code",
   "execution_count": 158,
   "id": "ad597183",
   "metadata": {},
   "outputs": [
    {
     "name": "stdout",
     "output_type": "stream",
     "text": [
      "7/7 [==============================] - 0s 3ms/step - loss: 0.6343 - accuracy: 0.7900\n"
     ]
    },
    {
     "data": {
      "text/plain": [
       "[0.6342796087265015, 0.7900000214576721]"
      ]
     },
     "execution_count": 158,
     "metadata": {},
     "output_type": "execute_result"
    }
   ],
   "source": [
    "model.evaluate(X_test, Y_test)"
   ]
  },
  {
   "cell_type": "markdown",
   "id": "86b9f1b0",
   "metadata": {},
   "source": [
    "**considered the size of the data available an accuracy of 79percent on the test data is not bad** "
   ]
  }
 ],
 "metadata": {
  "kernelspec": {
   "display_name": "Python 3 (ipykernel)",
   "language": "python",
   "name": "python3"
  },
  "language_info": {
   "codemirror_mode": {
    "name": "ipython",
    "version": 3
   },
   "file_extension": ".py",
   "mimetype": "text/x-python",
   "name": "python",
   "nbconvert_exporter": "python",
   "pygments_lexer": "ipython3",
   "version": "3.9.12"
  }
 },
 "nbformat": 4,
 "nbformat_minor": 5
}
